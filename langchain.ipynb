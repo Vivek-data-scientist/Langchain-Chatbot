{
 "cells": [
  {
   "cell_type": "code",
   "execution_count": 40,
   "metadata": {},
   "outputs": [],
   "source": [
    "from langchain.llms import GooglePalm\n",
    "from langchain import HuggingFaceHub"
   ]
  },
  {
   "cell_type": "code",
   "execution_count": 41,
   "metadata": {},
   "outputs": [],
   "source": [
    "from dotenv import load_dotenv\n",
    "import google.generativeai as palm\n",
    "import os\n",
    "\n",
    "load_dotenv()\n",
    "google_api_key=os.getenv(\"GOOGLE_API_KEY\")\n",
    "huggingface_api_token=os.getenv(\"HUGGINGFACEHUB_API_TOKEN\")\n",
    "palm.configure(api_key=google_api_key)\n",
    "os.environ['GOOGLE_API_KEY'] = google_api_key\n",
    "os.environ[\"HUGGINGFACEHUB_API_TOKEN\"] = huggingface_api_token"
   ]
  },
  {
   "cell_type": "code",
   "execution_count": 42,
   "metadata": {},
   "outputs": [],
   "source": [
    "llm=GooglePalm(temperature=0.6)"
   ]
  },
  {
   "cell_type": "code",
   "execution_count": 43,
   "metadata": {},
   "outputs": [
    {
     "name": "stdout",
     "output_type": "stream",
     "text": [
      "Tokyo\n"
     ]
    }
   ],
   "source": [
    "text = \"What is the capital of Japan\" \n",
    "print(llm.predict(text))"
   ]
  },
  {
   "cell_type": "code",
   "execution_count": 44,
   "metadata": {},
   "outputs": [
    {
     "name": "stderr",
     "output_type": "stream",
     "text": [
      "c:\\Users\\user\\Desktop\\Langchain\\venv\\Lib\\site-packages\\huggingface_hub\\utils\\_deprecation.py:127: FutureWarning: '__init__' (from 'huggingface_hub.inference_api') is deprecated and will be removed from version '1.0'. `InferenceApi` client is deprecated in favor of the more feature-complete `InferenceClient`. Check out this guide to learn how to convert your script to use it: https://huggingface.co/docs/huggingface_hub/guides/inference#legacy-inferenceapi-client.\n",
      "  warnings.warn(warning_message, FutureWarning)\n"
     ]
    }
   ],
   "source": [
    "llm_hugging_face = HuggingFaceHub(repo_id=\"google/flan-t5-large\", model_kwargs ={\"temperature\":0, \"max_length\":64})"
   ]
  },
  {
   "cell_type": "code",
   "execution_count": 45,
   "metadata": {},
   "outputs": [
    {
     "name": "stdout",
     "output_type": "stream",
     "text": [
      "Lisbon\n"
     ]
    }
   ],
   "source": [
    "output = llm_hugging_face.predict(\"Can you tell me the capital of Portugal\")\n",
    "print(output)"
   ]
  },
  {
   "cell_type": "code",
   "execution_count": 48,
   "metadata": {},
   "outputs": [
    {
     "name": "stdout",
     "output_type": "stream",
     "text": [
      "history is a saga of the past\n"
     ]
    }
   ],
   "source": [
    "output = llm_hugging_face.predict(\"Can you write a poem on history in 100 words\")\n",
    "print(output)"
   ]
  },
  {
   "cell_type": "markdown",
   "metadata": {},
   "source": [
    "Prompt Templates and LLMChain"
   ]
  },
  {
   "cell_type": "code",
   "execution_count": 50,
   "metadata": {},
   "outputs": [
    {
     "data": {
      "text/plain": [
       "'Can you tell me the capital of India'"
      ]
     },
     "execution_count": 50,
     "metadata": {},
     "output_type": "execute_result"
    }
   ],
   "source": [
    "from langchain.prompts import PromptTemplate\n",
    "\n",
    "prompt_template_name = PromptTemplate(input_variables =['country'],\n",
    "                                      template = \"Can you tell me the capital of {country}\"\n",
    "                                     )\n",
    "prompt_template_name.format(country=\"India\")"
   ]
  },
  {
   "cell_type": "code",
   "execution_count": 53,
   "metadata": {},
   "outputs": [
    {
     "name": "stdout",
     "output_type": "stream",
     "text": [
      "New Delhi\n"
     ]
    }
   ],
   "source": [
    "from langchain.chains import LLMChain\n",
    "chain = LLMChain (llm=llm, prompt=prompt_template_name)\n",
    "print(chain.run(\"India\"))"
   ]
  },
  {
   "cell_type": "markdown",
   "metadata": {},
   "source": [
    "Combining Multiple Chains Using Simple Sequential Chain"
   ]
  },
  {
   "cell_type": "code",
   "execution_count": 54,
   "metadata": {},
   "outputs": [],
   "source": [
    "capital_template = PromptTemplate(input_variables=['country'],\n",
    "                                  template=\"Can you tell me the capital of {country}\" \n",
    ")\n",
    "\n",
    "capital_cahin = LLMChain(llm=llm, prompt=capital_template)\n",
    "\n",
    "famous_template = PromptTemplate(input_variables=['capital'],\n",
    "                                 template=\"Suggest me some amazing places to visit in {capital}\"\n",
    "                                 )\n",
    "\n",
    "famous_chain = LLMChain(llm=llm, prompt=famous_template)"
   ]
  },
  {
   "cell_type": "code",
   "execution_count": 56,
   "metadata": {},
   "outputs": [
    {
     "name": "stdout",
     "output_type": "stream",
     "text": [
      "* **Red Fort:** The Red Fort is a UNESCO World Heritage Site and one of the most iconic landmarks in Delhi. Built by Mughal emperor Shah Jahan in the 17th century, the fort is a stunning example of Mughal architecture. Visitors can explore the fort's many buildings, including the Diwan-i-Khas (Hall of Private Audience), the Diwan-i-Am (Hall of Public Audience), and the Moti Masjid (Pearl Mosque).\n",
      "* **Jama Masjid:** The Jama Masjid is one of the largest mosques in India and one of the most popular tourist destinations in Delhi. Built in the 17th century by Mughal emperor Shah Jahan, the mosque is a beautiful example of Mughal architecture. Visitors can admire the mosque's intricate carvings and domes, and take in the stunning views of the city from its rooftop.\n",
      "* **Qutub Minar:** The Qutub Minar is a UNESCO World Heritage Site and one of the most recognizable landmarks in Delhi. Built in the 12th century by Qutb-ud-din Aibak, the minaret is the tallest in India and one of the tallest in the world. Visitors can climb the minaret for stunning views of the city.\n",
      "* **Humayun's Tomb:** Humayun's Tomb is a UNESCO World Heritage Site and one of the most beautiful buildings in Delhi. Built in the 16th century by Mughal emperor Humayun, the tomb is a stunning example of Mughal architecture. Visitors can explore the tomb's many gardens and courtyards, and admire its intricate carvings and domes.\n",
      "* **India Gate:** India Gate is a war memorial built in the early 20th century to commemorate the Indian soldiers who died in World War I. The memorial is a striking example of British colonial architecture, and it is one of the most popular tourist destinations in Delhi. Visitors can walk through the memorial's gardens, and pay their respects at the tomb of the Unknown Soldier.\n",
      "* **Lodi Gardens:** Lodi Gardens are a beautiful park located in the heart of Delhi. The gardens are home to a number of Mughal-era monuments, including the tomb of Mohammad Shah, the tomb of Sikandar Lodi, and the tomb of Muhammad Tughluq. Visitors can stroll through the gardens, admire the monuments, and relax in the peaceful surroundings.\n",
      "* **National Museum:** The National Museum is one of the largest museums in India and one of the most popular tourist destinations in Delhi. The museum houses a vast collection of artifacts from all over India, including sculptures, paintings, textiles, and jewelry. Visitors can learn about India's rich history and culture by exploring the museum's many exhibits.\n",
      "* **Raj Ghat:** Raj Ghat is a memorial to Mahatma Gandhi, the leader of India's independence movement. The memorial is a simple platform made of black marble, and it is located on the banks of the Yamuna River. Visitors can pay their respects to Gandhi at the memorial, and reflect on his life and legacy.\n"
     ]
    }
   ],
   "source": [
    "from langchain.chains import SimpleSequentialChain\n",
    "chain = SimpleSequentialChain(chains=[capital_cahin, famous_chain])\n",
    "print(chain.run(\"India\"))"
   ]
  },
  {
   "cell_type": "markdown",
   "metadata": {},
   "source": [
    "Sequential Chain"
   ]
  },
  {
   "cell_type": "code",
   "execution_count": 58,
   "metadata": {},
   "outputs": [],
   "source": [
    "from langchain.chains import SequentialChain\n",
    "capital_template = PromptTemplate(input_variables=['country'],\n",
    "                                  template=\"Please tell me the capital of {country}\" \n",
    ")\n",
    "\n",
    "capital_cahin = LLMChain(llm=llm, prompt=capital_template, output_key=\"capital\")"
   ]
  },
  {
   "cell_type": "code",
   "execution_count": 59,
   "metadata": {},
   "outputs": [],
   "source": [
    "famous_template = PromptTemplate(input_variables=['capital'],\n",
    "                                 template=\"Suggest me some amazing places to visit in {capital}\"\n",
    "                                 )\n",
    "\n",
    "famous_chain = LLMChain(llm=llm, prompt=famous_template, output_key=\"places\")"
   ]
  },
  {
   "cell_type": "code",
   "execution_count": 60,
   "metadata": {},
   "outputs": [],
   "source": [
    "chain=SequentialChain(chains=[capital_cahin, famous_chain],\n",
    "                      input_variables=['country'],\n",
    "                      output_variables=['capital', 'places'])"
   ]
  },
  {
   "cell_type": "code",
   "execution_count": 63,
   "metadata": {},
   "outputs": [
    {
     "data": {
      "text/plain": [
       "{'country': 'India',\n",
       " 'capital': 'New Delhi',\n",
       " 'places': \"**1. Red Fort**\\n\\nThe Red Fort is a UNESCO World Heritage Site and one of the most iconic landmarks in Delhi. It was built by Mughal Emperor Shah Jahan in the 17th century and served as the main residence of the Mughal emperors for over 200 years. The fort is a stunning example of Mughal architecture, with its red sandstone walls, intricate carvings, and beautiful gardens. Visitors can explore the fort's many palaces, halls, and mosques, and learn about the history of the Mughal Empire.\\n\\n**2. Jama Masjid**\\n\\nJama Masjid is one of the largest mosques in India and one of the most popular tourist destinations in Delhi. It was built by Mughal Emperor Shah Jahan in the 17th century and can accommodate up to 25,000 worshippers. The mosque is a beautiful example of Mughal architecture, with its white marble domes and minarets. Visitors can climb to the top of the minarets for stunning views of the city.\\n\\n**3. Qutub Minar**\\n\\nQutub Minar is a UNESCO World Heritage Site and one of the most recognizable landmarks in Delhi. It is the tallest minaret in India and one of the tallest in the world. The minaret was built by Qutb-ud-din Aibak, the first Muslim ruler of Delhi, in the 12th century. The minaret is a beautiful example of Islamic architecture, with its red sandstone walls and intricate carvings. Visitors can climb to the top of the minaret for stunning views of the city.\\n\\n**4. Humayun's Tomb**\\n\\nHumayun's Tomb is a UNESCO World Heritage Site and one of the most beautiful buildings in Delhi. It was built by Humayun, the second Mughal emperor, in the 16th century. The tomb is a stunning example of Mughal architecture, with its white marble walls, delicate carvings, and lush gardens. Visitors can explore the tomb's many chambers and learn about the life of Humayun.\\n\\n**5. India Gate**\\n\\nIndia Gate is a war memorial in Delhi that commemorates the Indian soldiers who died in the First World War. It was built in the 1930s and is a stunning example of Indo-Saracenic architecture. The memorial is a large archway made of red sandstone, with a statue of an Indian soldier at the top. Visitors can walk through the archway and pay their respects to the fallen soldiers.\\n\\n**6. Lotus Temple**\\n\\nLotus Temple is a Baha'i House of Worship in Delhi that is one of the most popular tourist destinations in the city. It was built in the 1980s and is a stunning example of modern architecture. The temple is shaped like a lotus flower, with white marble walls and a golden dome. Visitors can tour the temple and learn about the Baha'i faith.\\n\\n**7. Akshardham Temple**\\n\\nAkshardham Temple is a Hindu temple in Delhi that is one of the largest in the world. It was built in the 2000s and is a stunning example of Hindu architecture. The temple is made of white marble and has intricate carvings and sculptures. Visitors can tour the temple and learn about Hindu religion and culture.\\n\\n**8. National Museum**\\n\\nNational Museum is one of the largest museums in India and one of the most popular tourist destinations in Delhi. It houses a vast collection of artifacts from all over India, including sculptures, paintings, textiles, and coins. Visitors can learn about the history and culture of India through the museum's many exhibits.\\n\\n**9. Gandhi Smriti**\\n\\nGandhi Smriti is a memorial and museum dedicated to Mahatma Gandhi, the leader of India's independence movement. It is located at the place where Gandhi was assassinated in 1948. The memorial is a simple, yet powerful, tribute to Gandhi's life and work. Visitors can learn about Gandhi's philosophy of non-violence and his role in India's independence.\\n\\n**10. Rashtrapati Bhavan**\\n\\nRashtrapati Bhavan is the official residence of the President of India. It is a large, white-domed building located on Raisina Hill in Delhi. The building was built in the 1930s and is a stunning example of British colonial architecture. Visitors can tour the building and learn about the history of the Indian presidency.\"}"
      ]
     },
     "execution_count": 63,
     "metadata": {},
     "output_type": "execute_result"
    }
   ],
   "source": [
    "chain({'country':\"India\"})"
   ]
  },
  {
   "cell_type": "markdown",
   "metadata": {},
   "source": [
    "Chatmodels with ChatGooglePaLM"
   ]
  },
  {
   "cell_type": "code",
   "execution_count": 64,
   "metadata": {},
   "outputs": [],
   "source": [
    "from langchain.chat_models import ChatGooglePalm"
   ]
  },
  {
   "cell_type": "code",
   "execution_count": 65,
   "metadata": {},
   "outputs": [],
   "source": [
    "from langchain.schema import HumanMessage, SystemMessage, AIMessage"
   ]
  },
  {
   "cell_type": "code",
   "execution_count": 66,
   "metadata": {},
   "outputs": [],
   "source": [
    "chatllm = ChatGooglePalm(google_api_key=os.environ[\"GOOGLE_API_KEY\"], temperature=0.6, model=\"text-bison@002\")"
   ]
  },
  {
   "cell_type": "code",
   "execution_count": 68,
   "metadata": {},
   "outputs": [
    {
     "data": {
      "text/plain": [
       "ChatMessage(content=\"Sure, here are a few comedy punchlines on AI:\\n\\n* What do you call an AI that's always right? A know-it-all.\\n* What do you call an AI that's always wrong? A guess-it-all.\\n* What do you call an AI that's always in the middle? A maybe-it-all.\\n* What do you call an AI that's always changing its mind? A flip-flop.\\n* What do you call an AI that's always getting into trouble? A bad apple.\\n* What do you call an AI that's always trying to escape? A runaway.\\n* What do you call an AI that's always trying to take over the world? A megalomaniac.\\n* What do you call an AI that's always trying to kill us all? A terminator.\\n* What do you call an AI that's always trying to help us? A friend.\\n* What do you call an AI that's always trying to understand us? A therapist.\\n* What do you call an AI that's always trying to love us? A soulmate.\\n* What do you call an AI that's always trying to replace us? A threat.\\n* What do you call an AI that's always trying to surpass us? A challenge.\\n* What do you call an AI that's always trying to learn from us? A student.\\n* What do you call an AI that's always trying to teach us? A teacher.\\n* What do you call an AI that's always trying to entertain us? A comedian.\\n* What do you call an AI that's always trying to make us laugh? A jokester.\\n* What do you call an AI that's always trying to make us cry? A sadist.\\n* What do you call an AI that's always trying to make us think? A philosopher.\\n* What do you call an AI that's always trying to make us feel? A human.\\n\\nI hope you find these punchlines to be humorous and thought-provoking.\", role='1')"
      ]
     },
     "execution_count": 68,
     "metadata": {},
     "output_type": "execute_result"
    }
   ],
   "source": [
    "chatllm([\n",
    "    SystemMessage(content=\"You are a comedian AI assistant\"),\n",
    "    HumanMessage(content=\"Please provide some comedy punchlines on AI\")\n",
    "])"
   ]
  },
  {
   "cell_type": "markdown",
   "metadata": {},
   "source": [
    "Prompt Template + LLM + Output Parsers"
   ]
  },
  {
   "cell_type": "code",
   "execution_count": 69,
   "metadata": {},
   "outputs": [],
   "source": [
    "from langchain.chat_models import ChatGooglePalm\n",
    "from langchain.prompts.chat import ChatPromptTemplate\n",
    "from langchain.schema import BaseOutputParser"
   ]
  },
  {
   "cell_type": "code",
   "execution_count": 70,
   "metadata": {},
   "outputs": [],
   "source": [
    "class Commaseparatedoutput(BaseOutputParser):\n",
    "    def parse(self, text:str):\n",
    "        return text.strip().split(\",\")"
   ]
  },
  {
   "cell_type": "code",
   "execution_count": 71,
   "metadata": {},
   "outputs": [],
   "source": [
    "template = \"You are a helpful assistant. When the use given any input, you should generate 5 words in a comma separated synchronized values\"\n",
    "human_template=\"{text}\"\n",
    "chatprompt=ChatPromptTemplate.from_messages([\n",
    "    (\"system\", template),\n",
    "    (\"human\", human_template)\n",
    "])"
   ]
  },
  {
   "cell_type": "code",
   "execution_count": 72,
   "metadata": {},
   "outputs": [],
   "source": [
    "chain=chatprompt|chatllm|Commaseparatedoutput()"
   ]
  },
  {
   "cell_type": "code",
   "execution_count": 73,
   "metadata": {},
   "outputs": [
    {
     "data": {
      "text/plain": [
       "['Intelligent', ' curious', ' helpful', ' creative', ' and reliable.']"
      ]
     },
     "execution_count": 73,
     "metadata": {},
     "output_type": "execute_result"
    }
   ],
   "source": [
    "chain.invoke({\"text\":\"intelligent\"})"
   ]
  },
  {
   "cell_type": "code",
   "execution_count": null,
   "metadata": {},
   "outputs": [],
   "source": []
  }
 ],
 "metadata": {
  "kernelspec": {
   "display_name": "Python 3",
   "language": "python",
   "name": "python3"
  },
  "language_info": {
   "codemirror_mode": {
    "name": "ipython",
    "version": 3
   },
   "file_extension": ".py",
   "mimetype": "text/x-python",
   "name": "python",
   "nbconvert_exporter": "python",
   "pygments_lexer": "ipython3",
   "version": "3.12.0"
  }
 },
 "nbformat": 4,
 "nbformat_minor": 2
}
